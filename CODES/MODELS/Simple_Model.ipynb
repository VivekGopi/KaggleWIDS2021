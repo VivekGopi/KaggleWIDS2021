{
 "cells": [
  {
   "cell_type": "code",
   "execution_count": 5,
   "metadata": {},
   "outputs": [],
   "source": [
    "import os, sys, time\n",
    "import pandas as pd\n",
    "import numpy as np\n",
    "import lightgbm as lgb\n",
    "import gc"
   ]
  },
  {
   "cell_type": "code",
   "execution_count": 42,
   "metadata": {},
   "outputs": [],
   "source": [
    "import sklearn\n",
    "from sklearn.preprocessing import Imputer, MinMaxScaler\n",
    "from sklearn.model_selection import train_test_split"
   ]
  },
  {
   "cell_type": "code",
   "execution_count": 7,
   "metadata": {},
   "outputs": [],
   "source": [
    "pd.set_option('display.max_columns',None)\n",
    "pd.set_option('display.max_rows',None)\n",
    "pd.set_option('display.max_colwidth', -1)"
   ]
  },
  {
   "cell_type": "code",
   "execution_count": 9,
   "metadata": {},
   "outputs": [],
   "source": [
    "WIDS = ('/').join(os.getcwd().split('/')[:-2])\n",
    "DATA = os.path.join(WIDS,'DATA')"
   ]
  },
  {
   "cell_type": "code",
   "execution_count": 210,
   "metadata": {},
   "outputs": [],
   "source": [
    "train = pd.read_csv(os.path.join(DATA,'TrainingWiDS2021.csv'))\n",
    "test = pd.read_csv(os.path.join(DATA,'UnlabeledWiDS2021.csv'))\n",
    "datadictionary = pd.read_csv(os.path.join(DATA,'DataDictionaryWiDS2021.csv'))"
   ]
  },
  {
   "cell_type": "code",
   "execution_count": 211,
   "metadata": {},
   "outputs": [
    {
     "data": {
      "text/html": [
       "<div>\n",
       "<style scoped>\n",
       "    .dataframe tbody tr th:only-of-type {\n",
       "        vertical-align: middle;\n",
       "    }\n",
       "\n",
       "    .dataframe tbody tr th {\n",
       "        vertical-align: top;\n",
       "    }\n",
       "\n",
       "    .dataframe thead th {\n",
       "        text-align: right;\n",
       "    }\n",
       "</style>\n",
       "<table border=\"1\" class=\"dataframe\">\n",
       "  <thead>\n",
       "    <tr style=\"text-align: right;\">\n",
       "      <th></th>\n",
       "      <th>Category</th>\n",
       "      <th>Variable Name</th>\n",
       "      <th>Unit of Measure</th>\n",
       "      <th>Data Type</th>\n",
       "      <th>Description</th>\n",
       "      <th>Example</th>\n",
       "    </tr>\n",
       "  </thead>\n",
       "  <tbody>\n",
       "    <tr>\n",
       "      <th>0</th>\n",
       "      <td>identifier</td>\n",
       "      <td>encounter_id</td>\n",
       "      <td>None</td>\n",
       "      <td>integer</td>\n",
       "      <td>Unique identifier associated with a patient unit stay</td>\n",
       "      <td>None</td>\n",
       "    </tr>\n",
       "    <tr>\n",
       "      <th>1</th>\n",
       "      <td>identifier</td>\n",
       "      <td>hospital_id</td>\n",
       "      <td>None</td>\n",
       "      <td>integer</td>\n",
       "      <td>Unique identifier associated with a hospital</td>\n",
       "      <td>None</td>\n",
       "    </tr>\n",
       "    <tr>\n",
       "      <th>2</th>\n",
       "      <td>demographic</td>\n",
       "      <td>age</td>\n",
       "      <td>Years</td>\n",
       "      <td>numeric</td>\n",
       "      <td>The age of the patient on unit admission</td>\n",
       "      <td>None</td>\n",
       "    </tr>\n",
       "    <tr>\n",
       "      <th>3</th>\n",
       "      <td>demographic</td>\n",
       "      <td>bmi</td>\n",
       "      <td>kilograms/metres^2</td>\n",
       "      <td>string</td>\n",
       "      <td>The body mass index of the person on unit admission</td>\n",
       "      <td>21.5</td>\n",
       "    </tr>\n",
       "    <tr>\n",
       "      <th>4</th>\n",
       "      <td>demographic</td>\n",
       "      <td>elective_surgery</td>\n",
       "      <td>None</td>\n",
       "      <td>binary</td>\n",
       "      <td>Whether the patient was admitted to the hospital for an elective surgical operation</td>\n",
       "      <td>0</td>\n",
       "    </tr>\n",
       "  </tbody>\n",
       "</table>\n",
       "</div>"
      ],
      "text/plain": [
       "      Category     Variable Name     Unit of Measure Data Type  \\\n",
       "0  identifier   encounter_id      None                integer    \n",
       "1  identifier   hospital_id       None                integer    \n",
       "2  demographic  age               Years               numeric    \n",
       "3  demographic  bmi               kilograms/metres^2  string     \n",
       "4  demographic  elective_surgery  None                binary     \n",
       "\n",
       "                                                                           Description  \\\n",
       "0  Unique identifier associated with a patient unit stay                                 \n",
       "1  Unique identifier associated with a hospital                                          \n",
       "2  The age of the patient on unit admission                                              \n",
       "3  The body mass index of the person on unit admission                                   \n",
       "4  Whether the patient was admitted to the hospital for an elective surgical operation   \n",
       "\n",
       "  Example  \n",
       "0  None    \n",
       "1  None    \n",
       "2  None    \n",
       "3  21.5    \n",
       "4  0       "
      ]
     },
     "execution_count": 211,
     "metadata": {},
     "output_type": "execute_result"
    }
   ],
   "source": [
    "datadictionary.head()"
   ]
  },
  {
   "cell_type": "code",
   "execution_count": 212,
   "metadata": {},
   "outputs": [],
   "source": [
    "train.drop(columns='Unnamed: 0',inplace=True)\n",
    "test.drop(columns='Unnamed: 0',inplace=True)"
   ]
  },
  {
   "cell_type": "code",
   "execution_count": 213,
   "metadata": {},
   "outputs": [
    {
     "data": {
      "text/plain": [
       "((130157, 180), (10234, 179))"
      ]
     },
     "execution_count": 213,
     "metadata": {},
     "output_type": "execute_result"
    }
   ],
   "source": [
    "train.shape, test.shape"
   ]
  },
  {
   "cell_type": "code",
   "execution_count": 266,
   "metadata": {},
   "outputs": [],
   "source": [
    "# train.head()"
   ]
  },
  {
   "cell_type": "markdown",
   "metadata": {},
   "source": [
    "# To analyze variables on broad scale"
   ]
  },
  {
   "cell_type": "code",
   "execution_count": 215,
   "metadata": {},
   "outputs": [
    {
     "name": "stdout",
     "output_type": "stream",
     "text": [
      " We have 27.6% of diabetes in the training population\n"
     ]
    }
   ],
   "source": [
    "#Target variable\n",
    "ones = train['diabetes_mellitus'].value_counts()[1]\n",
    "zeros = train['diabetes_mellitus'].value_counts()[0]\n",
    "print(\" We have {}% of diabetes in the training population\".format(round(ones*100/zeros,2)))"
   ]
  },
  {
   "cell_type": "code",
   "execution_count": 216,
   "metadata": {},
   "outputs": [
    {
     "data": {
      "text/plain": [
       "Caucasian           100236\n",
       "African American    13911 \n",
       "Other/Unknown       6261  \n",
       "Hispanic            5049  \n",
       "Asian               2198  \n",
       "Native American     915   \n",
       "Name: ethnicity, dtype: int64"
      ]
     },
     "execution_count": 216,
     "metadata": {},
     "output_type": "execute_result"
    }
   ],
   "source": [
    "train['ethnicity'].value_counts()"
   ]
  },
  {
   "cell_type": "raw",
   "metadata": {},
   "source": [
    "# To hand pick columns to run for baseline model\n",
    "\n",
    "# 1. Cont cols\n",
    "age\n",
    "bmi\n",
    "elective_surgery\n",
    "ethnicity\n",
    "gender\n",
    "height\n",
    "weight\n",
    "pre_icu_los_days\n",
    "heart_rate_apache\n",
    "\n",
    "# 2. binary cols\n",
    "\n",
    "apache_post_operative\n",
    "arf_apache\n",
    "aids\n",
    "cirrhosis\n",
    "hepatic_failure\n",
    "immunosuppression\n",
    "leukemia\n",
    "lymphoma\n",
    "solid_tumor_with_metastasis"
   ]
  },
  {
   "cell_type": "code",
   "execution_count": 217,
   "metadata": {},
   "outputs": [],
   "source": [
    "continuous_cols = ['age',\n",
    "'bmi',\n",
    "'gender',\n",
    "'height',\n",
    "'weight',\n",
    "'pre_icu_los_days',\n",
    "'heart_rate_apache']\n",
    "binary_cols = ['elective_surgery',\n",
    "    'apache_post_operative',\n",
    "'arf_apache',\n",
    "'aids',\n",
    "'cirrhosis',\n",
    "'hepatic_failure',\n",
    "'immunosuppression',\n",
    "'leukemia',\n",
    "'lymphoma',\n",
    "'solid_tumor_with_metastasis']\n",
    "\n",
    "cat_cols = ['ethnicity',\n",
    "           'icu_type']"
   ]
  },
  {
   "cell_type": "code",
   "execution_count": 218,
   "metadata": {},
   "outputs": [
    {
     "data": {
      "text/plain": [
       "(age                            4988\n",
       " bmi                            4490\n",
       " gender                         66  \n",
       " height                         2077\n",
       " weight                         3463\n",
       " pre_icu_los_days               0   \n",
       " heart_rate_apache              309 \n",
       " elective_surgery               0   \n",
       " apache_post_operative          0   \n",
       " arf_apache                     0   \n",
       " aids                           0   \n",
       " cirrhosis                      0   \n",
       " hepatic_failure                0   \n",
       " immunosuppression              0   \n",
       " leukemia                       0   \n",
       " lymphoma                       0   \n",
       " solid_tumor_with_metastasis    0   \n",
       " ethnicity                      1587\n",
       " icu_type                       0   \n",
       " dtype: int64, 130157)"
      ]
     },
     "execution_count": 218,
     "metadata": {},
     "output_type": "execute_result"
    }
   ],
   "source": [
    "train[all_cols].isnull().sum(), len(train)"
   ]
  },
  {
   "cell_type": "code",
   "execution_count": 219,
   "metadata": {},
   "outputs": [
    {
     "data": {
      "text/plain": [
       "(age                            0   \n",
       " bmi                            1015\n",
       " gender                         5   \n",
       " height                         301 \n",
       " weight                         908 \n",
       " pre_icu_los_days               0   \n",
       " heart_rate_apache              30  \n",
       " elective_surgery               0   \n",
       " apache_post_operative          0   \n",
       " arf_apache                     0   \n",
       " aids                           0   \n",
       " cirrhosis                      0   \n",
       " hepatic_failure                0   \n",
       " immunosuppression              0   \n",
       " leukemia                       0   \n",
       " lymphoma                       0   \n",
       " solid_tumor_with_metastasis    0   \n",
       " ethnicity                      204 \n",
       " icu_type                       0   \n",
       " dtype: int64, 10234)"
      ]
     },
     "execution_count": 219,
     "metadata": {},
     "output_type": "execute_result"
    }
   ],
   "source": [
    "test[all_cols].isnull().sum(), len(test)"
   ]
  },
  {
   "cell_type": "markdown",
   "metadata": {},
   "source": [
    "# To correct values in continuous cols"
   ]
  },
  {
   "cell_type": "code",
   "execution_count": 220,
   "metadata": {},
   "outputs": [],
   "source": [
    "# To convert gender\n",
    "train['gender'] = train['gender'].apply(lambda x: 1 if x=='F' else 0)\n",
    "test['gender'] = test['gender'].apply(lambda x: 1 if x=='F' else 0)"
   ]
  },
  {
   "cell_type": "code",
   "execution_count": 221,
   "metadata": {},
   "outputs": [],
   "source": [
    "# To impute values for continuous cols\n",
    "impute = Imputer()\n",
    "scaler = MinMaxScaler()"
   ]
  },
  {
   "cell_type": "code",
   "execution_count": 222,
   "metadata": {},
   "outputs": [],
   "source": [
    "x_train_cont1 = impute.fit_transform(train[continuous_cols])\n",
    "x_train_cont = scaler.fit_transform(x_train_cont1)\n",
    "\n",
    "x_test_cont1 = impute.fit_transform(test[continuous_cols])\n",
    "x_test_cont = scaler.fit_transform(x_test_cont1)"
   ]
  },
  {
   "cell_type": "code",
   "execution_count": 223,
   "metadata": {},
   "outputs": [],
   "source": [
    "x_train_cont_df = pd.DataFrame(x_train_cont,columns=continuous_cols)\n",
    "x_test_cont_df = pd.DataFrame(x_test_cont,columns=continuous_cols)"
   ]
  },
  {
   "cell_type": "code",
   "execution_count": 232,
   "metadata": {},
   "outputs": [
    {
     "data": {
      "text/plain": [
       "((10234, 7), (10234, 7))"
      ]
     },
     "execution_count": 232,
     "metadata": {},
     "output_type": "execute_result"
    }
   ],
   "source": [
    "x_test_cont.shape, x_test_cont_df.shape"
   ]
  },
  {
   "cell_type": "code",
   "execution_count": 225,
   "metadata": {},
   "outputs": [
    {
     "data": {
      "text/html": [
       "<div>\n",
       "<style scoped>\n",
       "    .dataframe tbody tr th:only-of-type {\n",
       "        vertical-align: middle;\n",
       "    }\n",
       "\n",
       "    .dataframe tbody tr th {\n",
       "        vertical-align: top;\n",
       "    }\n",
       "\n",
       "    .dataframe thead th {\n",
       "        text-align: right;\n",
       "    }\n",
       "</style>\n",
       "<table border=\"1\" class=\"dataframe\">\n",
       "  <thead>\n",
       "    <tr style=\"text-align: right;\">\n",
       "      <th></th>\n",
       "      <th>age</th>\n",
       "      <th>bmi</th>\n",
       "      <th>gender</th>\n",
       "      <th>height</th>\n",
       "      <th>weight</th>\n",
       "      <th>pre_icu_los_days</th>\n",
       "      <th>heart_rate_apache</th>\n",
       "    </tr>\n",
       "  </thead>\n",
       "  <tbody>\n",
       "    <tr>\n",
       "      <th>0</th>\n",
       "      <td>0.764045</td>\n",
       "      <td>0.148912</td>\n",
       "      <td>0.0</td>\n",
       "      <td>0.738140</td>\n",
       "      <td>0.239484</td>\n",
       "      <td>0.004501</td>\n",
       "      <td>0.594595</td>\n",
       "    </tr>\n",
       "    <tr>\n",
       "      <th>1</th>\n",
       "      <td>0.865169</td>\n",
       "      <td>0.237435</td>\n",
       "      <td>1.0</td>\n",
       "      <td>0.390478</td>\n",
       "      <td>0.214383</td>\n",
       "      <td>0.006697</td>\n",
       "      <td>0.608108</td>\n",
       "    </tr>\n",
       "    <tr>\n",
       "      <th>2</th>\n",
       "      <td>0.280899</td>\n",
       "      <td>0.322972</td>\n",
       "      <td>1.0</td>\n",
       "      <td>0.607981</td>\n",
       "      <td>0.384668</td>\n",
       "      <td>0.001425</td>\n",
       "      <td>0.486486</td>\n",
       "    </tr>\n",
       "    <tr>\n",
       "      <th>3</th>\n",
       "      <td>0.910112</td>\n",
       "      <td>0.147076</td>\n",
       "      <td>1.0</td>\n",
       "      <td>0.477822</td>\n",
       "      <td>0.156716</td>\n",
       "      <td>0.001425</td>\n",
       "      <td>0.567568</td>\n",
       "    </tr>\n",
       "    <tr>\n",
       "      <th>4</th>\n",
       "      <td>0.213483</td>\n",
       "      <td>0.269309</td>\n",
       "      <td>0.0</td>\n",
       "      <td>0.870012</td>\n",
       "      <td>0.306588</td>\n",
       "      <td>0.001840</td>\n",
       "      <td>0.202703</td>\n",
       "    </tr>\n",
       "  </tbody>\n",
       "</table>\n",
       "</div>"
      ],
      "text/plain": [
       "        age       bmi  gender    height    weight  pre_icu_los_days  \\\n",
       "0  0.764045  0.148912  0.0     0.738140  0.239484  0.004501           \n",
       "1  0.865169  0.237435  1.0     0.390478  0.214383  0.006697           \n",
       "2  0.280899  0.322972  1.0     0.607981  0.384668  0.001425           \n",
       "3  0.910112  0.147076  1.0     0.477822  0.156716  0.001425           \n",
       "4  0.213483  0.269309  0.0     0.870012  0.306588  0.001840           \n",
       "\n",
       "   heart_rate_apache  \n",
       "0  0.594595           \n",
       "1  0.608108           \n",
       "2  0.486486           \n",
       "3  0.567568           \n",
       "4  0.202703           "
      ]
     },
     "execution_count": 225,
     "metadata": {},
     "output_type": "execute_result"
    }
   ],
   "source": [
    "x_train_cont_df.head()"
   ]
  },
  {
   "cell_type": "code",
   "execution_count": 226,
   "metadata": {},
   "outputs": [
    {
     "data": {
      "text/plain": [
       "age                  0\n",
       "bmi                  0\n",
       "gender               0\n",
       "height               0\n",
       "weight               0\n",
       "pre_icu_los_days     0\n",
       "heart_rate_apache    0\n",
       "dtype: int64"
      ]
     },
     "execution_count": 226,
     "metadata": {},
     "output_type": "execute_result"
    }
   ],
   "source": [
    "x_train_cont_df.isnull().sum()"
   ]
  },
  {
   "cell_type": "code",
   "execution_count": 227,
   "metadata": {},
   "outputs": [],
   "source": [
    "# To get binary cols\n",
    "x_train_binary_df = train[binary_cols]\n",
    "x_test_binary_df = test[binary_cols]"
   ]
  },
  {
   "cell_type": "code",
   "execution_count": 228,
   "metadata": {},
   "outputs": [],
   "source": [
    "# To get the target col\n",
    "y_train_df = train['diabetes_mellitus']"
   ]
  },
  {
   "cell_type": "code",
   "execution_count": 229,
   "metadata": {},
   "outputs": [],
   "source": [
    "# To prepare the categorical columns\n",
    "train[cat_cols] = train[cat_cols].fillna(value='Other/Unknown')\n",
    "test[cat_cols] = test[cat_cols].fillna(value='Other/Unknown')"
   ]
  },
  {
   "cell_type": "code",
   "execution_count": 230,
   "metadata": {},
   "outputs": [],
   "source": [
    "x_train_cat = pd.get_dummies(train[cat_cols],prefix=cat_cols)\n",
    "x_test_cat = pd.get_dummies(test[cat_cols],prefix=cat_cols)"
   ]
  },
  {
   "cell_type": "code",
   "execution_count": 236,
   "metadata": {},
   "outputs": [
    {
     "data": {
      "text/plain": [
       "((10234, 14), (10234, 7), (10234, 10), (10234, 21), (10234, 31))"
      ]
     },
     "execution_count": 236,
     "metadata": {},
     "output_type": "execute_result"
    }
   ],
   "source": [
    "x_test_cat_df.shape, x_test_cont_df.shape, x_test_binary_df.shape, x_test_cont_cat.shape, x_test_cont_cat_bin.shape"
   ]
  },
  {
   "cell_type": "code",
   "execution_count": 233,
   "metadata": {},
   "outputs": [],
   "source": [
    "x_train_cat_cols = x_train_cat.columns.tolist()\n",
    "x_test_cat_cols = x_test_cat.columns.tolist()"
   ]
  },
  {
   "cell_type": "code",
   "execution_count": 234,
   "metadata": {},
   "outputs": [],
   "source": [
    "x_train_cat_df = pd.DataFrame(x_train_cat,columns=x_train_cat_cols)\n",
    "x_test_cat_df = pd.DataFrame(x_test_cat,columns=x_test_cat_cols)"
   ]
  },
  {
   "cell_type": "code",
   "execution_count": 237,
   "metadata": {},
   "outputs": [],
   "source": [
    "x_train_cont_cat = pd.concat([x_train_cont_df,x_train_cat_df],sort=False,axis=1)\n",
    "x_train_cont_cat_bin = pd.concat([x_train_cont_cat,x_train_binary_df],sort=False,axis=1)\n",
    "\n",
    "x_test_cont_cat = pd.concat([x_test_cont_df,x_test_cat_df],sort=False,axis=1)\n",
    "x_test_cont_cat_bin = pd.concat([x_test_cont_cat,x_test_binary_df],sort=False,axis=1)"
   ]
  },
  {
   "cell_type": "code",
   "execution_count": 238,
   "metadata": {},
   "outputs": [],
   "source": [
    "x_train1, x_valid, y_train1,y_valid = train_test_split(x_train_cont_cat,\n",
    "                                                     y_train_df,\n",
    "                                                     test_size=0.33,stratify=y_train_df)"
   ]
  },
  {
   "cell_type": "code",
   "execution_count": 239,
   "metadata": {},
   "outputs": [],
   "source": [
    "x_train, x_test, y_train,y_test = train_test_split(x_train1,\n",
    "                                                     y_train1,\n",
    "                                                     test_size=0.33,stratify=y_train1)"
   ]
  },
  {
   "cell_type": "code",
   "execution_count": 240,
   "metadata": {},
   "outputs": [
    {
     "data": {
      "text/html": [
       "<div>\n",
       "<style scoped>\n",
       "    .dataframe tbody tr th:only-of-type {\n",
       "        vertical-align: middle;\n",
       "    }\n",
       "\n",
       "    .dataframe tbody tr th {\n",
       "        vertical-align: top;\n",
       "    }\n",
       "\n",
       "    .dataframe thead th {\n",
       "        text-align: right;\n",
       "    }\n",
       "</style>\n",
       "<table border=\"1\" class=\"dataframe\">\n",
       "  <thead>\n",
       "    <tr style=\"text-align: right;\">\n",
       "      <th></th>\n",
       "      <th>age</th>\n",
       "      <th>bmi</th>\n",
       "      <th>gender</th>\n",
       "      <th>height</th>\n",
       "      <th>weight</th>\n",
       "      <th>pre_icu_los_days</th>\n",
       "      <th>heart_rate_apache</th>\n",
       "      <th>ethnicity_African American</th>\n",
       "      <th>ethnicity_Asian</th>\n",
       "      <th>ethnicity_Caucasian</th>\n",
       "      <th>ethnicity_Hispanic</th>\n",
       "      <th>ethnicity_Native American</th>\n",
       "      <th>ethnicity_Other/Unknown</th>\n",
       "      <th>icu_type_CCU-CTICU</th>\n",
       "      <th>icu_type_CSICU</th>\n",
       "      <th>icu_type_CTICU</th>\n",
       "      <th>icu_type_Cardiac ICU</th>\n",
       "      <th>icu_type_MICU</th>\n",
       "      <th>icu_type_Med-Surg ICU</th>\n",
       "      <th>icu_type_Neuro ICU</th>\n",
       "      <th>icu_type_SICU</th>\n",
       "    </tr>\n",
       "  </thead>\n",
       "  <tbody>\n",
       "    <tr>\n",
       "      <th>47623</th>\n",
       "      <td>0.696574</td>\n",
       "      <td>0.248081</td>\n",
       "      <td>0.0</td>\n",
       "      <td>0.433293</td>\n",
       "      <td>0.239484</td>\n",
       "      <td>0.001879</td>\n",
       "      <td>0.648649</td>\n",
       "      <td>0</td>\n",
       "      <td>0</td>\n",
       "      <td>1</td>\n",
       "      <td>0</td>\n",
       "      <td>0</td>\n",
       "      <td>0</td>\n",
       "      <td>0</td>\n",
       "      <td>0</td>\n",
       "      <td>0</td>\n",
       "      <td>0</td>\n",
       "      <td>0</td>\n",
       "      <td>1</td>\n",
       "      <td>0</td>\n",
       "      <td>0</td>\n",
       "    </tr>\n",
       "    <tr>\n",
       "      <th>57577</th>\n",
       "      <td>0.775281</td>\n",
       "      <td>0.310665</td>\n",
       "      <td>1.0</td>\n",
       "      <td>0.477822</td>\n",
       "      <td>0.316961</td>\n",
       "      <td>0.003360</td>\n",
       "      <td>0.168919</td>\n",
       "      <td>0</td>\n",
       "      <td>0</td>\n",
       "      <td>1</td>\n",
       "      <td>0</td>\n",
       "      <td>0</td>\n",
       "      <td>0</td>\n",
       "      <td>1</td>\n",
       "      <td>0</td>\n",
       "      <td>0</td>\n",
       "      <td>0</td>\n",
       "      <td>0</td>\n",
       "      <td>0</td>\n",
       "      <td>0</td>\n",
       "      <td>0</td>\n",
       "    </tr>\n",
       "    <tr>\n",
       "      <th>123637</th>\n",
       "      <td>0.831461</td>\n",
       "      <td>0.255453</td>\n",
       "      <td>0.0</td>\n",
       "      <td>0.681624</td>\n",
       "      <td>0.341248</td>\n",
       "      <td>0.003502</td>\n",
       "      <td>0.074324</td>\n",
       "      <td>0</td>\n",
       "      <td>0</td>\n",
       "      <td>1</td>\n",
       "      <td>0</td>\n",
       "      <td>0</td>\n",
       "      <td>0</td>\n",
       "      <td>0</td>\n",
       "      <td>0</td>\n",
       "      <td>0</td>\n",
       "      <td>0</td>\n",
       "      <td>0</td>\n",
       "      <td>1</td>\n",
       "      <td>0</td>\n",
       "      <td>0</td>\n",
       "    </tr>\n",
       "    <tr>\n",
       "      <th>16852</th>\n",
       "      <td>0.719101</td>\n",
       "      <td>0.179452</td>\n",
       "      <td>1.0</td>\n",
       "      <td>0.520637</td>\n",
       "      <td>0.202171</td>\n",
       "      <td>0.001951</td>\n",
       "      <td>0.628378</td>\n",
       "      <td>0</td>\n",
       "      <td>0</td>\n",
       "      <td>1</td>\n",
       "      <td>0</td>\n",
       "      <td>0</td>\n",
       "      <td>0</td>\n",
       "      <td>0</td>\n",
       "      <td>0</td>\n",
       "      <td>0</td>\n",
       "      <td>0</td>\n",
       "      <td>0</td>\n",
       "      <td>1</td>\n",
       "      <td>0</td>\n",
       "      <td>0</td>\n",
       "    </tr>\n",
       "    <tr>\n",
       "      <th>21110</th>\n",
       "      <td>0.943820</td>\n",
       "      <td>0.205239</td>\n",
       "      <td>0.0</td>\n",
       "      <td>0.607981</td>\n",
       "      <td>0.258480</td>\n",
       "      <td>0.007530</td>\n",
       "      <td>0.432432</td>\n",
       "      <td>0</td>\n",
       "      <td>0</td>\n",
       "      <td>1</td>\n",
       "      <td>0</td>\n",
       "      <td>0</td>\n",
       "      <td>0</td>\n",
       "      <td>0</td>\n",
       "      <td>1</td>\n",
       "      <td>0</td>\n",
       "      <td>0</td>\n",
       "      <td>0</td>\n",
       "      <td>0</td>\n",
       "      <td>0</td>\n",
       "      <td>0</td>\n",
       "    </tr>\n",
       "  </tbody>\n",
       "</table>\n",
       "</div>"
      ],
      "text/plain": [
       "             age       bmi  gender    height    weight  pre_icu_los_days  \\\n",
       "47623   0.696574  0.248081  0.0     0.433293  0.239484  0.001879           \n",
       "57577   0.775281  0.310665  1.0     0.477822  0.316961  0.003360           \n",
       "123637  0.831461  0.255453  0.0     0.681624  0.341248  0.003502           \n",
       "16852   0.719101  0.179452  1.0     0.520637  0.202171  0.001951           \n",
       "21110   0.943820  0.205239  0.0     0.607981  0.258480  0.007530           \n",
       "\n",
       "        heart_rate_apache  ethnicity_African American  ethnicity_Asian  \\\n",
       "47623   0.648649           0                           0                 \n",
       "57577   0.168919           0                           0                 \n",
       "123637  0.074324           0                           0                 \n",
       "16852   0.628378           0                           0                 \n",
       "21110   0.432432           0                           0                 \n",
       "\n",
       "        ethnicity_Caucasian  ethnicity_Hispanic  ethnicity_Native American  \\\n",
       "47623   1                    0                   0                           \n",
       "57577   1                    0                   0                           \n",
       "123637  1                    0                   0                           \n",
       "16852   1                    0                   0                           \n",
       "21110   1                    0                   0                           \n",
       "\n",
       "        ethnicity_Other/Unknown  icu_type_CCU-CTICU  icu_type_CSICU  \\\n",
       "47623   0                        0                   0                \n",
       "57577   0                        1                   0                \n",
       "123637  0                        0                   0                \n",
       "16852   0                        0                   0                \n",
       "21110   0                        0                   1                \n",
       "\n",
       "        icu_type_CTICU  icu_type_Cardiac ICU  icu_type_MICU  \\\n",
       "47623   0               0                     0               \n",
       "57577   0               0                     0               \n",
       "123637  0               0                     0               \n",
       "16852   0               0                     0               \n",
       "21110   0               0                     0               \n",
       "\n",
       "        icu_type_Med-Surg ICU  icu_type_Neuro ICU  icu_type_SICU  \n",
       "47623   1                      0                   0              \n",
       "57577   0                      0                   0              \n",
       "123637  1                      0                   0              \n",
       "16852   1                      0                   0              \n",
       "21110   0                      0                   0              "
      ]
     },
     "execution_count": 240,
     "metadata": {},
     "output_type": "execute_result"
    }
   ],
   "source": [
    "x_train.head()"
   ]
  },
  {
   "cell_type": "code",
   "execution_count": 241,
   "metadata": {},
   "outputs": [],
   "source": [
    "model_data = pd.concat([x_train,y_train],axis=1)"
   ]
  },
  {
   "cell_type": "code",
   "execution_count": 242,
   "metadata": {},
   "outputs": [
    {
     "data": {
      "text/plain": [
       "(12637, 45790)"
      ]
     },
     "execution_count": 242,
     "metadata": {},
     "output_type": "execute_result"
    }
   ],
   "source": [
    "model_1 = model_data[model_data['diabetes_mellitus']==1]\n",
    "model_0 = model_data[model_data['diabetes_mellitus']==0]\n",
    "len(model_1),len(model_0)"
   ]
  },
  {
   "cell_type": "markdown",
   "metadata": {},
   "source": [
    "# To undersample the training data"
   ]
  },
  {
   "cell_type": "code",
   "execution_count": 243,
   "metadata": {},
   "outputs": [],
   "source": [
    "model_0_new = model_0.sample(len(model_1))"
   ]
  },
  {
   "cell_type": "code",
   "execution_count": 244,
   "metadata": {},
   "outputs": [],
   "source": [
    "model_data_new = pd.concat([model_1,model_0_new])\n",
    "model_data_new_shuffled = model_data_new.sample(len(model_data_new))"
   ]
  },
  {
   "cell_type": "code",
   "execution_count": 245,
   "metadata": {},
   "outputs": [
    {
     "data": {
      "text/plain": [
       "(25274, 22)"
      ]
     },
     "execution_count": 245,
     "metadata": {},
     "output_type": "execute_result"
    }
   ],
   "source": [
    "model_data_new_shuffled.shape"
   ]
  },
  {
   "cell_type": "code",
   "execution_count": 246,
   "metadata": {},
   "outputs": [],
   "source": [
    "x_train_new = model_data_new_shuffled.loc[:, model_data_new_shuffled.columns != 'diabetes_mellitus']\n",
    "y_train_new = model_data_new_shuffled['diabetes_mellitus']"
   ]
  },
  {
   "cell_type": "code",
   "execution_count": 247,
   "metadata": {},
   "outputs": [
    {
     "data": {
      "text/html": [
       "<div>\n",
       "<style scoped>\n",
       "    .dataframe tbody tr th:only-of-type {\n",
       "        vertical-align: middle;\n",
       "    }\n",
       "\n",
       "    .dataframe tbody tr th {\n",
       "        vertical-align: top;\n",
       "    }\n",
       "\n",
       "    .dataframe thead th {\n",
       "        text-align: right;\n",
       "    }\n",
       "</style>\n",
       "<table border=\"1\" class=\"dataframe\">\n",
       "  <thead>\n",
       "    <tr style=\"text-align: right;\">\n",
       "      <th></th>\n",
       "      <th>age</th>\n",
       "      <th>bmi</th>\n",
       "      <th>gender</th>\n",
       "      <th>height</th>\n",
       "      <th>weight</th>\n",
       "      <th>pre_icu_los_days</th>\n",
       "      <th>heart_rate_apache</th>\n",
       "      <th>ethnicity_African American</th>\n",
       "      <th>ethnicity_Asian</th>\n",
       "      <th>ethnicity_Caucasian</th>\n",
       "      <th>ethnicity_Hispanic</th>\n",
       "      <th>ethnicity_Native American</th>\n",
       "      <th>ethnicity_Other/Unknown</th>\n",
       "      <th>icu_type_CCU-CTICU</th>\n",
       "      <th>icu_type_CSICU</th>\n",
       "      <th>icu_type_CTICU</th>\n",
       "      <th>icu_type_Cardiac ICU</th>\n",
       "      <th>icu_type_MICU</th>\n",
       "      <th>icu_type_Med-Surg ICU</th>\n",
       "      <th>icu_type_Neuro ICU</th>\n",
       "      <th>icu_type_SICU</th>\n",
       "    </tr>\n",
       "  </thead>\n",
       "  <tbody>\n",
       "    <tr>\n",
       "      <th>26057</th>\n",
       "      <td>0.662921</td>\n",
       "      <td>0.220642</td>\n",
       "      <td>0.0</td>\n",
       "      <td>0.825484</td>\n",
       "      <td>0.356852</td>\n",
       "      <td>0.009725</td>\n",
       "      <td>0.121622</td>\n",
       "      <td>0</td>\n",
       "      <td>0</td>\n",
       "      <td>1</td>\n",
       "      <td>0</td>\n",
       "      <td>0</td>\n",
       "      <td>0</td>\n",
       "      <td>0</td>\n",
       "      <td>1</td>\n",
       "      <td>0</td>\n",
       "      <td>0</td>\n",
       "      <td>0</td>\n",
       "      <td>0</td>\n",
       "      <td>0</td>\n",
       "      <td>0</td>\n",
       "    </tr>\n",
       "    <tr>\n",
       "      <th>19452</th>\n",
       "      <td>0.629213</td>\n",
       "      <td>0.180656</td>\n",
       "      <td>0.0</td>\n",
       "      <td>0.912828</td>\n",
       "      <td>0.339213</td>\n",
       "      <td>0.001421</td>\n",
       "      <td>0.445946</td>\n",
       "      <td>0</td>\n",
       "      <td>0</td>\n",
       "      <td>1</td>\n",
       "      <td>0</td>\n",
       "      <td>0</td>\n",
       "      <td>0</td>\n",
       "      <td>0</td>\n",
       "      <td>0</td>\n",
       "      <td>0</td>\n",
       "      <td>0</td>\n",
       "      <td>0</td>\n",
       "      <td>1</td>\n",
       "      <td>0</td>\n",
       "      <td>0</td>\n",
       "    </tr>\n",
       "    <tr>\n",
       "      <th>37331</th>\n",
       "      <td>0.662921</td>\n",
       "      <td>0.096951</td>\n",
       "      <td>0.0</td>\n",
       "      <td>0.652509</td>\n",
       "      <td>0.154681</td>\n",
       "      <td>0.002065</td>\n",
       "      <td>0.554054</td>\n",
       "      <td>0</td>\n",
       "      <td>0</td>\n",
       "      <td>0</td>\n",
       "      <td>0</td>\n",
       "      <td>0</td>\n",
       "      <td>1</td>\n",
       "      <td>0</td>\n",
       "      <td>0</td>\n",
       "      <td>0</td>\n",
       "      <td>0</td>\n",
       "      <td>1</td>\n",
       "      <td>0</td>\n",
       "      <td>0</td>\n",
       "      <td>0</td>\n",
       "    </tr>\n",
       "    <tr>\n",
       "      <th>108801</th>\n",
       "      <td>0.550562</td>\n",
       "      <td>0.133450</td>\n",
       "      <td>0.0</td>\n",
       "      <td>0.818633</td>\n",
       "      <td>0.246947</td>\n",
       "      <td>0.002128</td>\n",
       "      <td>0.452703</td>\n",
       "      <td>0</td>\n",
       "      <td>0</td>\n",
       "      <td>0</td>\n",
       "      <td>0</td>\n",
       "      <td>0</td>\n",
       "      <td>1</td>\n",
       "      <td>0</td>\n",
       "      <td>0</td>\n",
       "      <td>0</td>\n",
       "      <td>0</td>\n",
       "      <td>1</td>\n",
       "      <td>0</td>\n",
       "      <td>0</td>\n",
       "      <td>0</td>\n",
       "    </tr>\n",
       "    <tr>\n",
       "      <th>68247</th>\n",
       "      <td>0.584270</td>\n",
       "      <td>0.180548</td>\n",
       "      <td>0.0</td>\n",
       "      <td>0.825484</td>\n",
       "      <td>0.307327</td>\n",
       "      <td>0.002499</td>\n",
       "      <td>0.547297</td>\n",
       "      <td>0</td>\n",
       "      <td>0</td>\n",
       "      <td>1</td>\n",
       "      <td>0</td>\n",
       "      <td>0</td>\n",
       "      <td>0</td>\n",
       "      <td>0</td>\n",
       "      <td>0</td>\n",
       "      <td>0</td>\n",
       "      <td>0</td>\n",
       "      <td>0</td>\n",
       "      <td>1</td>\n",
       "      <td>0</td>\n",
       "      <td>0</td>\n",
       "    </tr>\n",
       "  </tbody>\n",
       "</table>\n",
       "</div>"
      ],
      "text/plain": [
       "             age       bmi  gender    height    weight  pre_icu_los_days  \\\n",
       "26057   0.662921  0.220642  0.0     0.825484  0.356852  0.009725           \n",
       "19452   0.629213  0.180656  0.0     0.912828  0.339213  0.001421           \n",
       "37331   0.662921  0.096951  0.0     0.652509  0.154681  0.002065           \n",
       "108801  0.550562  0.133450  0.0     0.818633  0.246947  0.002128           \n",
       "68247   0.584270  0.180548  0.0     0.825484  0.307327  0.002499           \n",
       "\n",
       "        heart_rate_apache  ethnicity_African American  ethnicity_Asian  \\\n",
       "26057   0.121622           0                           0                 \n",
       "19452   0.445946           0                           0                 \n",
       "37331   0.554054           0                           0                 \n",
       "108801  0.452703           0                           0                 \n",
       "68247   0.547297           0                           0                 \n",
       "\n",
       "        ethnicity_Caucasian  ethnicity_Hispanic  ethnicity_Native American  \\\n",
       "26057   1                    0                   0                           \n",
       "19452   1                    0                   0                           \n",
       "37331   0                    0                   0                           \n",
       "108801  0                    0                   0                           \n",
       "68247   1                    0                   0                           \n",
       "\n",
       "        ethnicity_Other/Unknown  icu_type_CCU-CTICU  icu_type_CSICU  \\\n",
       "26057   0                        0                   1                \n",
       "19452   0                        0                   0                \n",
       "37331   1                        0                   0                \n",
       "108801  1                        0                   0                \n",
       "68247   0                        0                   0                \n",
       "\n",
       "        icu_type_CTICU  icu_type_Cardiac ICU  icu_type_MICU  \\\n",
       "26057   0               0                     0               \n",
       "19452   0               0                     0               \n",
       "37331   0               0                     1               \n",
       "108801  0               0                     1               \n",
       "68247   0               0                     0               \n",
       "\n",
       "        icu_type_Med-Surg ICU  icu_type_Neuro ICU  icu_type_SICU  \n",
       "26057   0                      0                   0              \n",
       "19452   1                      0                   0              \n",
       "37331   0                      0                   0              \n",
       "108801  0                      0                   0              \n",
       "68247   1                      0                   0              "
      ]
     },
     "execution_count": 247,
     "metadata": {},
     "output_type": "execute_result"
    }
   ],
   "source": [
    "x_train_new.head()"
   ]
  },
  {
   "cell_type": "code",
   "execution_count": 248,
   "metadata": {},
   "outputs": [],
   "source": [
    "from sklearn.linear_model import LogisticRegression\n",
    "from sklearn.model_selection import cross_val_score\n",
    "from sklearn.metrics import roc_auc_score, roc_curve, recall_score,  precision_recall_curve\n",
    "import importlib\n",
    "from itertools import *"
   ]
  },
  {
   "cell_type": "code",
   "execution_count": 250,
   "metadata": {},
   "outputs": [],
   "source": [
    "# classifier = LogisticRegression(C=0.1, solver='saga', penalty='l1')\n",
    "# cv_score = np.mean(cross_val_score(classifier, x_train_new, y_train_new, cv=5,n_jobs = -1, scoring='roc_auc'))\n",
    "# print(cv_score)"
   ]
  },
  {
   "cell_type": "code",
   "execution_count": 251,
   "metadata": {},
   "outputs": [],
   "source": [
    "model = classifier.fit(x_train_new, y_train_new)"
   ]
  },
  {
   "cell_type": "code",
   "execution_count": 252,
   "metadata": {},
   "outputs": [],
   "source": [
    "y_pred = model.predict(x_test)"
   ]
  },
  {
   "cell_type": "code",
   "execution_count": 253,
   "metadata": {},
   "outputs": [
    {
     "data": {
      "text/plain": [
       "0.6096552008398922"
      ]
     },
     "execution_count": 253,
     "metadata": {},
     "output_type": "execute_result"
    }
   ],
   "source": [
    "roc_per_class = roc_auc_score(y_test, y_pred)\n",
    "roc_per_class"
   ]
  },
  {
   "cell_type": "code",
   "execution_count": 254,
   "metadata": {},
   "outputs": [],
   "source": [
    "lgb_train = lgb.Dataset(x_train_new, y_train_new)\n",
    "lgb_eval = lgb.Dataset(x_valid, y_valid, reference=lgb_train)"
   ]
  },
  {
   "cell_type": "code",
   "execution_count": 255,
   "metadata": {},
   "outputs": [],
   "source": [
    "params = {\n",
    "    'task': 'train',\n",
    "    'boosting_type': 'gbdt',\n",
    "    'objective': 'binary',\n",
    "    'metric': {'l1', 'auc'},\n",
    "    'num_leaves': 500,\n",
    "    'learning_rate': 0.001,\n",
    "    'bagging_fraction': 0.8,\n",
    "    'importance_type':'split',\n",
    "    'reg_alpha':1.3,\n",
    "    'reg_lambda':0.1,\n",
    "    'bagging_freq': 5,\n",
    "    'scale_pos_weight':9.0, # because training data is unbalanced \n",
    "    'verbose': 0\n",
    "}"
   ]
  },
  {
   "cell_type": "code",
   "execution_count": 256,
   "metadata": {},
   "outputs": [
    {
     "name": "stdout",
     "output_type": "stream",
     "text": [
      "Training until validation scores don't improve for 250 rounds.\n",
      "[50]\tvalid_0's l1: 0.509114\tvalid_0's auc: 0.657053\n",
      "[100]\tvalid_0's l1: 0.517725\tvalid_0's auc: 0.658172\n",
      "[150]\tvalid_0's l1: 0.525857\tvalid_0's auc: 0.658858\n",
      "[200]\tvalid_0's l1: 0.533551\tvalid_0's auc: 0.659355\n",
      "[250]\tvalid_0's l1: 0.54083\tvalid_0's auc: 0.65956\n",
      "Early stopping, best iteration is:\n",
      "[1]\tvalid_0's l1: 0.500186\tvalid_0's auc: 0.645692\n",
      "Prediction done...\n"
     ]
    }
   ],
   "source": [
    "gbm = lgb.train(params,\n",
    "                lgb_train,\n",
    "                num_boost_round=1000,\n",
    "                valid_sets=lgb_eval,\n",
    "                early_stopping_rounds=250,\n",
    "                verbose_eval=50)\n",
    "y_pred = gbm.predict(x_test, num_iteration=gbm.best_iteration)\n",
    "print('Prediction done...')"
   ]
  },
  {
   "cell_type": "code",
   "execution_count": 257,
   "metadata": {},
   "outputs": [],
   "source": [
    "results = gbm.predict(x_test_cont_cat_bin, num_iteration=gbm.best_iteration)"
   ]
  },
  {
   "cell_type": "code",
   "execution_count": 258,
   "metadata": {},
   "outputs": [
    {
     "data": {
      "text/plain": [
       "10234"
      ]
     },
     "execution_count": 258,
     "metadata": {},
     "output_type": "execute_result"
    }
   ],
   "source": [
    "len(results)"
   ]
  },
  {
   "cell_type": "code",
   "execution_count": 259,
   "metadata": {},
   "outputs": [
    {
     "data": {
      "text/plain": [
       "0.6458520366601446"
      ]
     },
     "execution_count": 259,
     "metadata": {},
     "output_type": "execute_result"
    }
   ],
   "source": [
    "roc_per_class = roc_auc_score(y_test, y_pred)\n",
    "roc_per_class"
   ]
  },
  {
   "cell_type": "code",
   "execution_count": 260,
   "metadata": {},
   "outputs": [
    {
     "data": {
      "image/png": "[encoded data removed]",
      "text/plain": [
       "<matplotlib.figure.Figure at 0x1a128c5518>"
      ]
     },
     "metadata": {
      "needs_background": "light"
     },
     "output_type": "display_data"
    }
   ],
   "source": [
    "fpr, tpr, _ = roc_curve(y_test,y_pred)\n",
    "from matplotlib import pyplot\n",
    "pyplot.plot([0, 1], [0, 1], linestyle='--')\n",
    "pyplot.plot(fpr, tpr, marker='.', label = 'LGBM')\n",
    "pyplot.legend(loc='best')\n",
    "pyplot.title('ROC curve')\n",
    "pyplot.show()"
   ]
  },
  {
   "cell_type": "markdown",
   "metadata": {},
   "source": [
    "# We could have this as a simple handpicked columns for a baseline model which is clearly underfitted"
   ]
  },
  {
   "cell_type": "markdown",
   "metadata": {},
   "source": [
    "Still things to do could be \n",
    "1. Impute missing values with more EDA\n",
    "2. Find and remove highly correlated variables\n",
    "3. Include more variables based on their "
   ]
  },
  {
   "cell_type": "code",
   "execution_count": 262,
   "metadata": {},
   "outputs": [
    {
     "data": {
      "text/plain": [
       "10234"
      ]
     },
     "execution_count": 262,
     "metadata": {},
     "output_type": "execute_result"
    }
   ],
   "source": [
    "enc_id = test['encounter_id'].values.tolist()\n",
    "len(enc_id)"
   ]
  },
  {
   "cell_type": "code",
   "execution_count": 263,
   "metadata": {},
   "outputs": [],
   "source": [
    "SampleSubmission = pd.DataFrame({'encounter_id':enc_id,\n",
    "                                'diabetes_mellitus':results})"
   ]
  },
  {
   "cell_type": "code",
   "execution_count": 265,
   "metadata": {},
   "outputs": [],
   "source": [
    "SampleSubmission.to_csv(os.path.join(DATA,'Submission_1.csv'),index=False)"
   ]
  },
  {
   "cell_type": "code",
   "execution_count": null,
   "metadata": {},
   "outputs": [],
   "source": []
  }
 ],
 "metadata": {
  "kernelspec": {
   "display_name": "Python 3",
   "language": "python",
   "name": "python3"
  },
  "language_info": {
   "codemirror_mode": {
    "name": "ipython",
    "version": 3
   },
   "file_extension": ".py",
   "mimetype": "text/x-python",
   "name": "python",
   "nbconvert_exporter": "python",
   "pygments_lexer": "ipython3",
   "version": "3.6.8"
  }
 },
 "nbformat": 4,
 "nbformat_minor": 2
}
